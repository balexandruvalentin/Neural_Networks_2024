{
 "cells": [
  {
   "cell_type": "code",
   "execution_count": 19,
   "metadata": {},
   "outputs": [
    {
     "name": "stdout",
     "output_type": "stream",
     "text": [
      "Training Data Shape: (60000, 784)\n",
      "One-hot Encoded Labels Shape: (60000, 10)\n"
     ]
    }
   ],
   "source": [
    "import numpy as np\n",
    "from torchvision.datasets import MNIST\n",
    "from sklearn.preprocessing import OneHotEncoder\n",
    "\n",
    "def download_mnist(is_train: bool):\n",
    "    dataset = MNIST(root='./data',\n",
    "                    transform=lambda x: np.array(x).flatten() / 255.0,\n",
    "                    download=True,\n",
    "                    train=is_train)\n",
    "    \n",
    "    mnist_data = []\n",
    "    mnist_labels = []\n",
    "    \n",
    "    for image, label in dataset:\n",
    "        mnist_data.append(image)\n",
    "        mnist_labels.append(label)\n",
    "    \n",
    "    return np.array(mnist_data), np.array(mnist_labels)\n",
    "\n",
    "train_X, train_Y = download_mnist(True)\n",
    "test_X, test_Y = download_mnist(False)\n",
    "\n",
    "def one_hot_encode(labels, num_classes=10):\n",
    "    encoder = OneHotEncoder(sparse_output=False, categories='auto')\n",
    "    labels = labels.reshape(-1, 1)\n",
    "    return encoder.fit_transform(labels)\n",
    "\n",
    "train_Y_oh = one_hot_encode(train_Y)\n",
    "test_Y_oh = one_hot_encode(test_Y)\n",
    "\n",
    "print(\"Training Data Shape:\", train_X.shape)\n",
    "print(\"One-hot Encoded Labels Shape:\", train_Y_oh.shape)\n"
   ]
  },
  {
   "cell_type": "code",
   "execution_count": 27,
   "metadata": {},
   "outputs": [],
   "source": [
    "def softmax(z):\n",
    "    exp_z = np.exp(z - np.max(z))\n",
    "    return exp_z / np.sum(exp_z, axis=-1, keepdims=True)\n",
    "\n",
    "def cross_entropy_loss(y_true, y_pred):\n",
    "    return -np.sum(y_true * np.log(y_pred + 1e-9))\n",
    "\n",
    "def perceptron(train_X, train_Y, learning_rate=0.01, epochs=50, batch_size=100):\n",
    "    n_features = train_X.shape[1] #number of columns, shape[0] would be number of rows\n",
    "    n_classes = train_Y.shape[1]\n",
    "\n",
    "    weight = np.zeros((n_features, n_classes))\n",
    "    bias = np.zeros(n_classes)\n",
    "\n",
    "    num_samples = train_X.shape[0]\n",
    "\n",
    "    for epoch in range(epochs):\n",
    "        for i in range(0, num_samples, batch_size):\n",
    "            X_batch = train_X[i:i+batch_size]\n",
    "            y_batch = train_Y[i:i+batch_size]\n",
    "\n",
    "            delta_weight = np.zeros((n_features, n_classes))\n",
    "            delta_bias = np.zeros(n_classes)\n",
    "\n",
    "            #for each sample in the batch:\n",
    "            for j in range(len(X_batch)):\n",
    "                #we take the input and label:\n",
    "                x = X_batch[j]\n",
    "                y_true = y_batch[j]\n",
    "\n",
    "                z = np.dot(x, weight) + bias\n",
    "\n",
    "                #apply softmax to get predicted probabilities\n",
    "                y_pred = softmax(z)\n",
    "\n",
    "                #compute gradients\n",
    "                delta_weight += np.outer(x, y_pred - y_true) #using outer product to apply the error to all values of x\n",
    "                delta_bias += y_pred - y_true\n",
    "\n",
    "            #updating weight and bias to minimize error:\n",
    "            weight -= learning_rate * delta_weight / batch_size\n",
    "            bias -= learning_rate * delta_bias / batch_size\n",
    "\n",
    "        if epoch % 5 == 0:\n",
    "            z = np.dot(train_X, weight) + bias\n",
    "            y_pred = softmax(z)\n",
    "            loss = np.mean([cross_entropy_loss(y_true, y_pred) for y_true, y_pred in zip(train_Y, y_pred)])\n",
    "            print(f'Epoch {epoch + 1}/{epochs} - Loss: {loss:.4f}')\n",
    "\n",
    "    return weight, bias"
   ]
  },
  {
   "cell_type": "code",
   "execution_count": 28,
   "metadata": {},
   "outputs": [],
   "source": [
    "def compute_accuracy(X, Y_true, weight, bias):\n",
    "    z = np.dot(X, weight) + bias\n",
    "    \n",
    "    Y_pred_probs = softmax(z)\n",
    "    Y_pred = np.argmax(Y_pred_probs, axis=1) #predicted class corresponds to the index of the highest probability\n",
    "    Y_true_labels = np.argmax(Y_true, axis=1)\n",
    "    \n",
    "    correct_predictions = np.sum(Y_pred == Y_true_labels)\n",
    "    accuracy = correct_predictions / len(Y_true_labels)\n",
    "    \n",
    "    return accuracy"
   ]
  },
  {
   "cell_type": "code",
   "execution_count": 29,
   "metadata": {},
   "outputs": [
    {
     "name": "stdout",
     "output_type": "stream",
     "text": [
      "Epoch 1/50 - Loss: 0.7401\n",
      "Epoch 6/50 - Loss: 0.4221\n",
      "Epoch 11/50 - Loss: 0.3728\n",
      "Epoch 16/50 - Loss: 0.3494\n",
      "Epoch 21/50 - Loss: 0.3350\n",
      "Epoch 26/50 - Loss: 0.3248\n",
      "Epoch 31/50 - Loss: 0.3173\n",
      "Epoch 36/50 - Loss: 0.3113\n",
      "Epoch 41/50 - Loss: 0.3064\n",
      "Epoch 46/50 - Loss: 0.3023\n",
      "Weight matrix:  [[0. 0. 0. ... 0. 0. 0.]\n",
      " [0. 0. 0. ... 0. 0. 0.]\n",
      " [0. 0. 0. ... 0. 0. 0.]\n",
      " ...\n",
      " [0. 0. 0. ... 0. 0. 0.]\n",
      " [0. 0. 0. ... 0. 0. 0.]\n",
      " [0. 0. 0. ... 0. 0. 0.]]\n",
      "Bias vector:  [-0.27007485  0.31157985  0.04396047 -0.20441136  0.05444098  0.91977435\n",
      " -0.05792437  0.46330906 -1.08525695 -0.17539717]\n",
      "Test Accuracy: 91.95%\n"
     ]
    }
   ],
   "source": [
    "weight, bias = perceptron(train_X, train_Y_oh, learning_rate=0.01, epochs=50, batch_size=100)\n",
    "\n",
    "print(\"Weight matrix: \", weight)\n",
    "print(\"Bias vector: \", bias)\n",
    "accuracy = compute_accuracy(test_X, test_Y_oh, weight, bias)\n",
    "print(f\"Test Accuracy: {accuracy * 100:.2f}%\")\n"
   ]
  }
 ],
 "metadata": {
  "kernelspec": {
   "display_name": "Python 3",
   "language": "python",
   "name": "python3"
  },
  "language_info": {
   "codemirror_mode": {
    "name": "ipython",
    "version": 3
   },
   "file_extension": ".py",
   "mimetype": "text/x-python",
   "name": "python",
   "nbconvert_exporter": "python",
   "pygments_lexer": "ipython3",
   "version": "3.11.3"
  }
 },
 "nbformat": 4,
 "nbformat_minor": 2
}
